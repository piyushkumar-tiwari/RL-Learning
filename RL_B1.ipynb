{
  "nbformat": 4,
  "nbformat_minor": 0,
  "metadata": {
    "colab": {
      "provenance": [],
      "authorship_tag": "ABX9TyNXIwBtaR5+qffqmfsp9H+W",
      "include_colab_link": true
    },
    "kernelspec": {
      "name": "python3",
      "display_name": "Python 3"
    },
    "language_info": {
      "name": "python"
    }
  },
  "cells": [
    {
      "cell_type": "markdown",
      "metadata": {
        "id": "view-in-github",
        "colab_type": "text"
      },
      "source": [
        "<a href=\"https://colab.research.google.com/github/piyushkumar-tiwari/RL-Learning/blob/main/RL_B1.ipynb\" target=\"_parent\"><img src=\"https://colab.research.google.com/assets/colab-badge.svg\" alt=\"Open In Colab\"/></a>"
      ]
    },
    {
      "cell_type": "code",
      "execution_count": null,
      "metadata": {
        "id": "h2n5iOom_q52"
      },
      "outputs": [],
      "source": [
        "import numpy as np\n",
        "import pandas as pd\n",
        "import matplotlib.pyplot as plt"
      ]
    },
    {
      "cell_type": "code",
      "source": [
        "# --------------------------\n",
        "# MRP: no actions, only states + transitions\n",
        "# --------------------------\n",
        "class MRP:\n",
        "    def __init__(self, states, transition_matrix, rewards):\n",
        "        self.states = states\n",
        "        self.P = transition_matrix\n",
        "        self.rewards = rewards\n",
        "\n",
        "    def step(self, current_state):\n",
        "        idx = self.states.index(current_state)\n",
        "        next_state = np.random.choice(self.states, p=self.P[idx])\n",
        "        reward = self.rewards[current_state]\n",
        "        return next_state, reward\n",
        "\n",
        "\n",
        "# --------------------------\n",
        "# MDP: states, actions, transitions depending on actions\n",
        "# --------------------------\n",
        "class MDP:\n",
        "    def __init__(self, states, actions, transition_matrix, rewards):\n",
        "        \"\"\"\n",
        "        transition_matrix: dict {(state, action): prob distribution over next states}\n",
        "        rewards: dict {(state, action): reward}\n",
        "        \"\"\"\n",
        "        self.states = states\n",
        "        self.actions = actions\n",
        "        self.P = transition_matrix\n",
        "        self.rewards = rewards\n",
        "\n",
        "    def step(self, current_state, action):\n",
        "        \"\"\"Agent chooses action, then environment samples next state\"\"\"\n",
        "        next_state = np.random.choice(\n",
        "            self.states, p=self.P[(current_state, action)]\n",
        "        )\n",
        "        reward = self.rewards[(current_state, action)]\n",
        "        return next_state, reward\n",
        "\n",
        "\n",
        "# --------------------------\n",
        "# Example: Student world\n",
        "# --------------------------\n",
        "states = [\"Class\", \"Facebook\", \"Pub\", \"Sleep\", \"Pass\"]\n",
        "\n",
        "# --- MRP setup ---\n",
        "transition_mrp = np.array([\n",
        "    [0.5, 0.5, 0.0, 0.0, 0.0],  # Class -> (Class/Facebook)\n",
        "    [0.1, 0.9, 0.0, 0.0, 0.0],  # Facebook -> Facebook/Class\n",
        "    [0.2, 0.0, 0.4, 0.4, 0.0],  # Pub -> Class2/Sleep/etc (simplified)\n",
        "    [0.0, 0.0, 0.0, 1.0, 0.0],  # Sleep -> Sleep\n",
        "    [0.0, 0.0, 0.0, 0.0, 1.0]   # Pass (terminal)\n",
        "])\n",
        "rewards_mrp = {\"Class\": -2, \"Facebook\": -1, \"Pub\": +1, \"Sleep\": 0, \"Pass\": +10}\n",
        "\n",
        "mrp = MRP(states, transition_mrp, rewards_mrp)\n",
        "\n",
        "# --- MDP setup ---\n",
        "actions = [\"Study\", \"Facebook\", \"Pub\", \"Sleep\"]\n",
        "transition_mdp = {\n",
        "    (\"Class\", \"Study\"): [0.5, 0.0, 0.0, 0.0, 0.5],   # study leads to Class or Pass\n",
        "    (\"Class\", \"Facebook\"): [0.0, 1.0, 0.0, 0.0, 0.0],\n",
        "    (\"Class\", \"Pub\"): [0.0, 0.0, 1.0, 0.0, 0.0],\n",
        "    (\"Class\", \"Sleep\"): [0.0, 0.0, 0.0, 1.0, 0.0],\n",
        "}\n",
        "rewards_mdp = {\n",
        "    (\"Class\", \"Study\"): -2,\n",
        "    (\"Class\", \"Facebook\"): -1,\n",
        "    (\"Class\", \"Pub\"): +1,\n",
        "    (\"Class\", \"Sleep\"): 0,\n",
        "}\n",
        "\n",
        "mdp = MDP(states, actions, transition_mdp, rewards_mdp)\n",
        "\n",
        "# --------------------------\n",
        "# Run small simulations\n",
        "# --------------------------\n",
        "def run_mrp(mrp, start_state, steps=10):\n",
        "    state = start_state\n",
        "    history = []\n",
        "    for _ in range(steps):\n",
        "        state, reward = mrp.step(state)\n",
        "        history.append((state, reward))\n",
        "        if state == \"Pass\":  # terminal\n",
        "            break\n",
        "    return pd.DataFrame(history, columns=[\"State\", \"Reward\"])\n",
        "\n",
        "def run_mdp(mdp, start_state, steps=10):\n",
        "    state = start_state\n",
        "    history = []\n",
        "    for _ in range(steps):\n",
        "        # agent chooses action (here random policy)\n",
        "        action = np.random.choice(mdp.actions)\n",
        "        state, reward = mdp.step(state, action)\n",
        "        history.append((action, state, reward))\n",
        "        if state == \"Pass\":\n",
        "            break\n",
        "    return pd.DataFrame(history, columns=[\"Action\", \"State\", \"Reward\"])\n",
        "\n",
        "# Example runs\n",
        "print(\"=== MRP Simulation ===\")\n",
        "print(run_mrp(mrp, \"Class\"))\n",
        "\n",
        "print(\"\\n=== MDP Simulation ===\")\n",
        "print(run_mdp(mdp, \"Class\"))\n"
      ],
      "metadata": {
        "colab": {
          "base_uri": "https://localhost:8080/"
        },
        "id": "HK8aLb1rAUxT",
        "outputId": "859eb6d3-c505-47e8-a239-075316545b2f"
      },
      "execution_count": null,
      "outputs": [
        {
          "output_type": "stream",
          "name": "stdout",
          "text": [
            "=== MRP Simulation ===\n",
            "      State  Reward\n",
            "0     Class      -2\n",
            "1  Facebook      -2\n",
            "2  Facebook      -1\n",
            "3  Facebook      -1\n",
            "4     Class      -1\n",
            "5     Class      -2\n",
            "6  Facebook      -2\n",
            "7  Facebook      -1\n",
            "8  Facebook      -1\n",
            "9  Facebook      -1\n",
            "\n",
            "=== MDP Simulation ===\n",
            "  Action State  Reward\n",
            "0  Study  Pass      -2\n"
          ]
        }
      ]
    },
    {
      "cell_type": "code",
      "source": [
        "# Example trajectory\n",
        "traj_mrp = run_mrp(mrp, \"Class\")\n",
        "traj_mdp = run_mdp(mdp, \"Class\")\n",
        "\n",
        "plt.plot(traj_mrp[\"Reward\"].cumsum(), label=\"MRP Return\")\n",
        "plt.plot(traj_mdp[\"Reward\"].cumsum(), label=\"MDP Return\")\n",
        "plt.xlabel(\"Step\")\n",
        "plt.ylabel(\"Cumulative Reward\")\n",
        "plt.legend()\n",
        "plt.show()"
      ],
      "metadata": {
        "colab": {
          "base_uri": "https://localhost:8080/",
          "height": 449
        },
        "id": "DagxCrhwA0VU",
        "outputId": "5978b973-c55f-4954-86aa-fb1cc927c044"
      },
      "execution_count": null,
      "outputs": [
        {
          "output_type": "display_data",
          "data": {
            "text/plain": [
              "<Figure size 640x480 with 1 Axes>"
            ],
            "image/png": "[encoded data removed]"
          },
          "metadata": {}
        }
      ]
    },
    {
      "cell_type": "code",
      "source": [],
      "metadata": {
        "id": "bmkjHv8wFpI4"
      },
      "execution_count": null,
      "outputs": []
    },
    {
      "cell_type": "code",
      "metadata": {
        "id": "a821e29a"
      },
      "source": [],
      "execution_count": null,
      "outputs": []
    }
  ]
}